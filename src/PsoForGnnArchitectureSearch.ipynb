{
 "cells": [
  {
   "cell_type": "markdown",
   "metadata": {},
   "source": [
    "# Particle Swarm Optimisation for Graph Neural Network Architecture Search"
   ]
  },
  {
   "cell_type": "code",
   "execution_count": 107,
   "metadata": {},
   "outputs": [],
   "source": [
    "import torch\n",
    "import torch.nn as nn\n",
    "import torch.nn.functional as F\n",
    "\n",
    "import torch_geometric.nn as pyg_nn\n",
    "import torch_geometric.utils as pyg_utils\n",
    "\n",
    "import time\n",
    "from datetime import datetime\n",
    "\n",
    "import networkx as nx\n",
    "import numpy as np\n",
    "import torch\n",
    "import torch.optim as optim\n",
    "\n",
    "from torch_geometric.datasets import TUDataset\n",
    "from torch_geometric.datasets import Planetoid\n",
    "from torch_geometric.datasets import MNISTSuperpixels\n",
    "from torch_geometric.data import DataLoader\n",
    "\n",
    "import torch_geometric.transforms as T\n",
    "\n",
    "from tensorboardX import SummaryWriter\n",
    "from sklearn.manifold import TSNE\n",
    "import matplotlib.pyplot as plt"
   ]
  },
  {
   "cell_type": "markdown",
   "metadata": {},
   "source": [
    "This GNN can handle different types of convolutional layers, and both node and graph classification.\n",
    "The build_conv_model method determines which type of convolutional layer to use for the given task, a graph convolutional network for node classificationtion (GCNConv) and a graph isomorphism network for graph classification (GINConv).\n",
    "This model is made of 3 covolution layers followed by mean pooling in the case of graph classification, followed by 2 fully connected layers.\n",
    "Sing our goal here is classification, we use a negative log-likelihood loss function."
   ]
  },
  {
   "cell_type": "markdown",
   "metadata": {},
   "source": [
    "List of the changeable hyperparameters:\n",
    "\n",
    "    - hidden_dim (dimmension of hidden layers)\n",
    "\n",
    "    - number of convs layers\n",
    "\n",
    "    - number of lns layers (normalisation layers)\n",
    "    "
   ]
  },
  {
   "cell_type": "code",
   "execution_count": 108,
   "metadata": {},
   "outputs": [],
   "source": [
    "class GNNStack(nn.Module):\n",
    "    def __init__(self, input_dim, hidden_dim, output_dim, task='node', hidden_num = 2):\n",
    "        super(GNNStack, self).__init__()\n",
    "        self.task = task\n",
    "        self.convs = nn.ModuleList() #convolution operations\n",
    "        self.lns = nn.ModuleList() #normalisation operations\n",
    "        self.convs.append(self.build_conv_model(input_dim, hidden_dim))\n",
    "        # adding convolution an normalisation layers\n",
    "        for l in range(hidden_num):\n",
    "            self.convs.append(self.build_conv_model(hidden_dim, hidden_dim))\n",
    "            self.lns.append(nn.LayerNorm(hidden_dim))\n",
    "\n",
    "        # self.lns.append(nn.LayerNorm(hidden_dim))\n",
    "\n",
    "\n",
    "        # post-message-passing\n",
    "        self.post_mp = nn.Sequential(\n",
    "            nn.Linear(hidden_dim, hidden_dim), nn.Dropout(0.25), \n",
    "            nn.Linear(hidden_dim, output_dim)) # adding 2 linear layers \n",
    "        if not (self.task == 'node' or self.task == 'graph'):\n",
    "            raise RuntimeError('Unknown task.')\n",
    "\n",
    "        self.dropout = 0.25\n",
    "        self.num_layers = 3\n",
    "\n",
    "    def build_conv_model(self, input_dim, hidden_dim):\n",
    "        # refer to pytorch geometric nn module for different implementation of GNNs.\n",
    "        # create different types of GCNConv according to the problem to solve\n",
    "        if self.task == 'node':\n",
    "            return pyg_nn.GCNConv(input_dim, hidden_dim)\n",
    "        else:\n",
    "            return pyg_nn.GINConv(nn.Sequential(nn.Linear(input_dim, hidden_dim),\n",
    "                                  nn.ReLU(), nn.Linear(hidden_dim, hidden_dim)))\n",
    "\n",
    "    def forward(self, data):\n",
    "        # x = feature matrix = number of nodes * number of node feature dimensions,\n",
    "        # edge_index = list of the edges in the graph,\n",
    "        # batch = batch of a graph\n",
    "        x, edge_index, batch = data.x, data.edge_index, data.batch\n",
    "\n",
    "        if data.num_node_features == 0: #if there is no feature, use a constant feature\n",
    "          x = torch.ones(data.num_nodes, 1)\n",
    "\n",
    "        for i in range(self.num_layers): # ,create num_layers convolution layers\n",
    "            x = self.convs[i](x, edge_index)\n",
    "            emb = x\n",
    "            x = F.relu(x)\n",
    "            x = F.dropout(x, p=self.dropout, training=self.training)\n",
    "            if not i == self.num_layers - 1:\n",
    "                x = self.lns[i](x)\n",
    "\n",
    "        if self.task == 'graph': # if it is a graph classification task, do a pooling\n",
    "            x = pyg_nn.global_mean_pool(x, batch)\n",
    "\n",
    "        x = self.post_mp(x)\n",
    "\n",
    "        return emb, F.log_softmax(x, dim=1)\n",
    "\n",
    "    def loss(self, pred, label):\n",
    "        return F.nll_loss(pred, label)"
   ]
  },
  {
   "cell_type": "markdown",
   "metadata": {},
   "source": [
    "pyg_nn.GCNConv and pyg_nn.GINConv are instances of MessagePassing, They define a single layer of graph convolution, which can be decomposed into:\n",
    "- Message computation\n",
    "- Aggregation\n",
    "- Update\n",
    "- Pooling"
   ]
  },
  {
   "cell_type": "markdown",
   "metadata": {},
   "source": [
    "With CustomConv, we have an exemple of how to subclass the pytorch geometric MessagePassing class to derive a new model  rather than using existing GCNConv and GINConv.\n",
    "We use the MessagePassing's key building blocks:\n",
    "- aggr='add': The aggregation method to use (\"add\", \"mean\" or \"max\").\n",
    "- propagate(): The initial call to start propagating messages. Takes in the edge indices and any other data to pass along (e.g. to update node embeddings).\n",
    "- message(): Constructs messages to node i. Takes any argument which was initially passed to propagate().\n",
    "- update(): Updates node embeddings. Takes in the output of aggregation as first argument and any argument which was initially passed to propagate()."
   ]
  },
  {
   "cell_type": "code",
   "execution_count": 109,
   "metadata": {},
   "outputs": [],
   "source": [
    "class CustomConv(pyg_nn.MessagePassing):\n",
    "    def __init__(self, in_channels, out_channels):\n",
    "        super(CustomConv, self).__init__(aggr='add')  # \"Add\" aggr egation.\n",
    "        self.lin = nn.Linear(in_channels, out_channels)\n",
    "        self.lin_self = nn.Linear(in_channels, out_channels)\n",
    "\n",
    "    def forward(self, x, edge_index):\n",
    "        # x has shape [N, in_channels]\n",
    "        # edge_index has shape [2, E]\n",
    "\n",
    "        # Add self-loops to the adjacency matrix.\n",
    "        edge_index, _ = pyg_utils.remove_self_loops(edge_index)\n",
    "\n",
    "        # Transform node feature matrix.\n",
    "        self_x = self.lin_self(x)\n",
    "        #x = self.lin(x)\n",
    "\n",
    "        # start the propagation of the message\n",
    "        return self_x + self.propagate(edge_index, size=(x.size(0), x.size(0)), x=self.lin(x))\n",
    "\n",
    "    def message(self, x_i, x_j, edge_index, size):\n",
    "        # Compute messages\n",
    "        # x_j has shape [E, out_channels]\n",
    "\n",
    "        row, col = edge_index\n",
    "        deg = pyg_utils.degree(row, size[0], dtype=x_j.dtype)\n",
    "        deg_inv_sqrt = deg.pow(-0.5)\n",
    "        norm = deg_inv_sqrt[row] * deg_inv_sqrt[col]\n",
    "\n",
    "        return x_j\n",
    "\n",
    "    def update(self, aggr_out):\n",
    "        # aggr_out has shape [N, out_channels]\n",
    "        return aggr_out"
   ]
  },
  {
   "cell_type": "markdown",
   "metadata": {},
   "source": [
    "Training the model with forward propagation and back propagation. \n",
    "For node classification, we split nodes into training and testing sets.\n",
    "Same thing for graph classification, we use 80% of the graphs for training and the remainder for testing."
   ]
  },
  {
   "cell_type": "code",
   "execution_count": 128,
   "metadata": {},
   "outputs": [],
   "source": [
    "def train(dataset, task, writer):\n",
    "    trigger = 0\n",
    "    prev_acc = 0.0\n",
    "\n",
    "    if task == 'graph':\n",
    "        data_size = len(dataset)\n",
    "        # split data  into traning and testing set\n",
    "        loader = DataLoader(dataset[:int(data_size * 0.8)], batch_size=64, shuffle=True)\n",
    "        test_loader = DataLoader(dataset[int(data_size * 0.8):], batch_size=64, shuffle=True)\n",
    "    else:\n",
    "        test_loader = DataLoader(dataset, batch_size=64, shuffle=True)\n",
    "        loader = test_loader\n",
    "\n",
    "    # build model\n",
    "    model = GNNStack(max(dataset.num_node_features, 1), 32, dataset.num_classes, task=task)\n",
    "    opt = optim.Adam(model.parameters(), lr=0.01)\n",
    "    \n",
    "    # train for 200 epochs\n",
    "    for epoch in range(200):\n",
    "        total_loss = 0\n",
    "        model.train()\n",
    "        for batch in loader:\n",
    "            # print(batch.train_mask, '----')\n",
    "            opt.zero_grad()\n",
    "\n",
    "            # get the prediction and the excpeted label\n",
    "            embedding, pred = model(batch)\n",
    "            label = batch.y\n",
    "            if task == 'node':\n",
    "                pred = pred[batch.train_mask]\n",
    "                label = label[batch.train_mask]\n",
    "            loss = model.loss(pred, label)\n",
    "            loss.backward()\n",
    "            opt.step()\n",
    "            total_loss += loss.item() * batch.num_graphs\n",
    "        total_loss /= len(loader.dataset)\n",
    "        writer.add_scalar(\"loss\", total_loss, epoch)\n",
    "\n",
    "        # print accuracy\n",
    "        test_acc = test(test_loader, model)\n",
    "        print(\"Epoch {}. Loss: {:.4f}. Test accuracy: {:.4f}\".format(\n",
    "            epoch, total_loss, test_acc))\n",
    "        writer.add_scalar(\"test accuracy\", test_acc, epoch)\n",
    "\n",
    "        if test_acc <= prev_acc:\n",
    "            trigger += 1\n",
    "\n",
    "        if trigger >= 10:\n",
    "            print(\"the model is not learning anymore.\")\n",
    "            break\n",
    "        prev_acc = test_acc\n",
    "\n",
    "    return model"
   ]
  },
  {
   "cell_type": "markdown",
   "metadata": {},
   "source": [
    "For the CiteSeer/Cora node classification task, there is only one graph, so we use masking to determine validation and test set. In graph classification, a subset of graphs is considered as a validation/test graph"
   ]
  },
  {
   "cell_type": "code",
   "execution_count": 111,
   "metadata": {},
   "outputs": [],
   "source": [
    "def test(loader, model, is_validation=False):\n",
    "    model.eval()\n",
    "\n",
    "    correct = 0\n",
    "    for data in loader:\n",
    "        with torch.no_grad(): # avoid gradient computing for faster results\n",
    "            emb, pred = model(data)\n",
    "            pred = pred.argmax(dim=1)\n",
    "            label = data.y\n",
    "\n",
    "        if model.task == 'node':\n",
    "            mask = data.val_mask if is_validation else data.test_mask\n",
    "            # node classification: only evaluate on nodes in test set\n",
    "            pred = pred[mask]\n",
    "            label = data.y[mask]\n",
    "            \n",
    "        correct += pred.eq(label).sum().item()\n",
    "     \n",
    "    if model.task == 'graph':\n",
    "        total = len(loader.dataset) \n",
    "    else:\n",
    "        total = 0\n",
    "        for data in loader.dataset:\n",
    "            total += torch.sum(data.test_mask).item()\n",
    "    return correct / total"
   ]
  },
  {
   "cell_type": "code",
   "execution_count": 112,
   "metadata": {},
   "outputs": [],
   "source": [
    "# get_ipython().system_raw(\n",
    "#     'tensorboard --logdir {} --host 0.0.0.0 --port 6006 &'\n",
    "#     .format(\"./log\")\n",
    "# )\n",
    "# get_ipython().system_raw('./ngrok http 6006 &')\n",
    "# !curl -s http://localhost:4040/api/tunnels | python3 -c \\\n",
    "#     \"import sys, json; print(json.load(sys.stdin)['tunnels'][0]['public_url'])\""
   ]
  },
  {
   "cell_type": "code",
   "execution_count": 131,
   "metadata": {},
   "outputs": [
    {
     "name": "stdout",
     "output_type": "stream",
     "text": [
      "Epoch 0. Loss: 1.8233. Test accuracy: 0.1417\n",
      "Epoch 1. Loss: 1.8047. Test accuracy: 0.1500\n",
      "Epoch 2. Loss: 1.7922. Test accuracy: 0.1500\n",
      "Epoch 3. Loss: 1.7953. Test accuracy: 0.1250\n",
      "Epoch 4. Loss: 1.7914. Test accuracy: 0.1250\n",
      "Epoch 5. Loss: 1.7915. Test accuracy: 0.1083\n",
      "Epoch 6. Loss: 1.7864. Test accuracy: 0.1833\n",
      "Epoch 7. Loss: 1.7856. Test accuracy: 0.2083\n",
      "Epoch 8. Loss: 1.7828. Test accuracy: 0.2333\n",
      "Epoch 9. Loss: 1.7745. Test accuracy: 0.1500\n",
      "Epoch 10. Loss: 1.7677. Test accuracy: 0.1833\n",
      "Epoch 11. Loss: 1.7670. Test accuracy: 0.2083\n",
      "Epoch 12. Loss: 1.7585. Test accuracy: 0.1583\n",
      "Epoch 13. Loss: 1.7580. Test accuracy: 0.2500\n",
      "Epoch 14. Loss: 1.7608. Test accuracy: 0.2333\n",
      "Epoch 15. Loss: 1.7707. Test accuracy: 0.2000\n",
      "Epoch 16. Loss: 1.7565. Test accuracy: 0.1917\n",
      "Epoch 17. Loss: 1.7651. Test accuracy: 0.2250\n",
      "Epoch 18. Loss: 1.7575. Test accuracy: 0.2167\n",
      "the model is not learning anymore.\n"
     ]
    }
   ],
   "source": [
    "writer = SummaryWriter(\"./log/\" + datetime.now().strftime(\"%Y%m%d-%H%M%S\"))\n",
    "\n",
    "dataset = TUDataset(root='/tmp/ENZYMES', name='ENZYMES')\n",
    "dataset = dataset.shuffle()\n",
    "task = 'graph'\n",
    "\n",
    "model = train(dataset, task, writer)"
   ]
  },
  {
   "cell_type": "code",
   "execution_count": 124,
   "metadata": {},
   "outputs": [
    {
     "name": "stderr",
     "output_type": "stream",
     "text": [
      "Downloading https://github.com/kimiyoung/planetoid/raw/master/data/ind.cora.x\n",
      "Downloading https://github.com/kimiyoung/planetoid/raw/master/data/ind.cora.tx\n",
      "Downloading https://github.com/kimiyoung/planetoid/raw/master/data/ind.cora.allx\n",
      "Downloading https://github.com/kimiyoung/planetoid/raw/master/data/ind.cora.y\n",
      "Downloading https://github.com/kimiyoung/planetoid/raw/master/data/ind.cora.ty\n",
      "Downloading https://github.com/kimiyoung/planetoid/raw/master/data/ind.cora.ally\n",
      "Downloading https://github.com/kimiyoung/planetoid/raw/master/data/ind.cora.graph\n",
      "Downloading https://github.com/kimiyoung/planetoid/raw/master/data/ind.cora.test.index\n",
      "Processing...\n",
      "Done!\n",
      "/home/tristan/anaconda3/envs/thesis/lib/python3.8/site-packages/torch_geometric/deprecation.py:12: UserWarning: 'data.DataLoader' is deprecated, use 'loader.DataLoader' instead\n",
      "  warnings.warn(out)\n"
     ]
    },
    {
     "name": "stdout",
     "output_type": "stream",
     "text": [
      "Epoch 0. Loss: 2.0035. Test accuracy: 0.2570\n",
      "Epoch 1. Loss: 1.8598. Test accuracy: 0.4880\n",
      "Epoch 2. Loss: 1.7585. Test accuracy: 0.5270\n",
      "Epoch 3. Loss: 1.6115. Test accuracy: 0.6490\n",
      "Epoch 4. Loss: 1.4219. Test accuracy: 0.6920\n",
      "Epoch 5. Loss: 1.2749. Test accuracy: 0.7100\n",
      "Epoch 6. Loss: 1.0764. Test accuracy: 0.7130\n",
      "Epoch 7. Loss: 0.8811. Test accuracy: 0.7360\n",
      "Epoch 8. Loss: 0.6396. Test accuracy: 0.7370\n",
      "Epoch 9. Loss: 0.5458. Test accuracy: 0.7420\n",
      "Epoch 10. Loss: 0.4297. Test accuracy: 0.7320\n",
      "Epoch 11. Loss: 0.3416. Test accuracy: 0.7140\n",
      "Epoch 12. Loss: 0.2987. Test accuracy: 0.7440\n",
      "Epoch 13. Loss: 0.2196. Test accuracy: 0.7670\n",
      "Epoch 14. Loss: 0.1302. Test accuracy: 0.7710\n",
      "Epoch 15. Loss: 0.1005. Test accuracy: 0.7610\n",
      "Epoch 16. Loss: 0.1275. Test accuracy: 0.7650\n",
      "Epoch 17. Loss: 0.1114. Test accuracy: 0.7590\n",
      "Epoch 18. Loss: 0.1518. Test accuracy: 0.7490\n",
      "Epoch 19. Loss: 0.0427. Test accuracy: 0.7380\n",
      "Epoch 20. Loss: 0.0264. Test accuracy: 0.7330\n",
      "Epoch 21. Loss: 0.0285. Test accuracy: 0.7280\n",
      "Epoch 22. Loss: 0.0345. Test accuracy: 0.7270\n",
      "Epoch 23. Loss: 0.0321. Test accuracy: 0.7270\n",
      "the model is not learning anymore.\n"
     ]
    }
   ],
   "source": [
    "writer = SummaryWriter(\"./log/\" + datetime.now().strftime(\"%Y%m%d-%H%M%S\"))\n",
    "\n",
    "dataset = Planetoid(root='/tmp/cora', name='cora')\n",
    "task = 'node'\n",
    "\n",
    "model = train(dataset, task, writer)"
   ]
  },
  {
   "cell_type": "code",
   "execution_count": 132,
   "metadata": {},
   "outputs": [
    {
     "name": "stderr",
     "output_type": "stream",
     "text": [
      "/home/tristan/anaconda3/envs/thesis/lib/python3.8/site-packages/sklearn/manifold/_t_sne.py:780: FutureWarning: The default initialization in TSNE will change from 'random' to 'pca' in 1.2.\n",
      "  warnings.warn(\n",
      "/home/tristan/anaconda3/envs/thesis/lib/python3.8/site-packages/sklearn/manifold/_t_sne.py:790: FutureWarning: The default learning rate in TSNE will change from 200.0 to 'auto' in 1.2.\n",
      "  warnings.warn(\n"
     ]
    },
    {
     "ename": "ValueError",
     "evalue": "'c' argument has 600 elements, which is inconsistent with 'x' and 'y' with size 19580.",
     "output_type": "error",
     "traceback": [
      "\u001b[0;31m---------------------------------------------------------------------------\u001b[0m",
      "\u001b[0;31mValueError\u001b[0m                                Traceback (most recent call last)",
      "\u001b[1;32m/home/tristan/HW/GnnArchitectureSearchWithPSO/src/PsoForGnnArchitectureSearch.ipynb Cell 16'\u001b[0m in \u001b[0;36m<cell line: 13>\u001b[0;34m()\u001b[0m\n\u001b[1;32m     <a href='vscode-notebook-cell:/home/tristan/HW/GnnArchitectureSearchWithPSO/src/PsoForGnnArchitectureSearch.ipynb#ch0000015?line=9'>10</a>\u001b[0m embs \u001b[39m=\u001b[39m torch\u001b[39m.\u001b[39mcat(embs, dim\u001b[39m=\u001b[39m\u001b[39m0\u001b[39m)\n\u001b[1;32m     <a href='vscode-notebook-cell:/home/tristan/HW/GnnArchitectureSearchWithPSO/src/PsoForGnnArchitectureSearch.ipynb#ch0000015?line=11'>12</a>\u001b[0m xs, ys \u001b[39m=\u001b[39m \u001b[39mzip\u001b[39m(\u001b[39m*\u001b[39mTSNE()\u001b[39m.\u001b[39mfit_transform(embs\u001b[39m.\u001b[39mdetach()\u001b[39m.\u001b[39mnumpy()))\n\u001b[0;32m---> <a href='vscode-notebook-cell:/home/tristan/HW/GnnArchitectureSearchWithPSO/src/PsoForGnnArchitectureSearch.ipynb#ch0000015?line=12'>13</a>\u001b[0m plt\u001b[39m.\u001b[39;49mscatter(xs, ys, color\u001b[39m=\u001b[39;49mcolors)\n",
      "File \u001b[0;32m~/anaconda3/envs/thesis/lib/python3.8/site-packages/matplotlib/pyplot.py:2807\u001b[0m, in \u001b[0;36mscatter\u001b[0;34m(x, y, s, c, marker, cmap, norm, vmin, vmax, alpha, linewidths, edgecolors, plotnonfinite, data, **kwargs)\u001b[0m\n\u001b[1;32m   2802\u001b[0m \u001b[39m@_copy_docstring_and_deprecators\u001b[39m(Axes\u001b[39m.\u001b[39mscatter)\n\u001b[1;32m   2803\u001b[0m \u001b[39mdef\u001b[39;00m \u001b[39mscatter\u001b[39m(\n\u001b[1;32m   2804\u001b[0m         x, y, s\u001b[39m=\u001b[39m\u001b[39mNone\u001b[39;00m, c\u001b[39m=\u001b[39m\u001b[39mNone\u001b[39;00m, marker\u001b[39m=\u001b[39m\u001b[39mNone\u001b[39;00m, cmap\u001b[39m=\u001b[39m\u001b[39mNone\u001b[39;00m, norm\u001b[39m=\u001b[39m\u001b[39mNone\u001b[39;00m,\n\u001b[1;32m   2805\u001b[0m         vmin\u001b[39m=\u001b[39m\u001b[39mNone\u001b[39;00m, vmax\u001b[39m=\u001b[39m\u001b[39mNone\u001b[39;00m, alpha\u001b[39m=\u001b[39m\u001b[39mNone\u001b[39;00m, linewidths\u001b[39m=\u001b[39m\u001b[39mNone\u001b[39;00m, \u001b[39m*\u001b[39m,\n\u001b[1;32m   2806\u001b[0m         edgecolors\u001b[39m=\u001b[39m\u001b[39mNone\u001b[39;00m, plotnonfinite\u001b[39m=\u001b[39m\u001b[39mFalse\u001b[39;00m, data\u001b[39m=\u001b[39m\u001b[39mNone\u001b[39;00m, \u001b[39m*\u001b[39m\u001b[39m*\u001b[39mkwargs):\n\u001b[0;32m-> 2807\u001b[0m     __ret \u001b[39m=\u001b[39m gca()\u001b[39m.\u001b[39;49mscatter(\n\u001b[1;32m   2808\u001b[0m         x, y, s\u001b[39m=\u001b[39;49ms, c\u001b[39m=\u001b[39;49mc, marker\u001b[39m=\u001b[39;49mmarker, cmap\u001b[39m=\u001b[39;49mcmap, norm\u001b[39m=\u001b[39;49mnorm,\n\u001b[1;32m   2809\u001b[0m         vmin\u001b[39m=\u001b[39;49mvmin, vmax\u001b[39m=\u001b[39;49mvmax, alpha\u001b[39m=\u001b[39;49malpha, linewidths\u001b[39m=\u001b[39;49mlinewidths,\n\u001b[1;32m   2810\u001b[0m         edgecolors\u001b[39m=\u001b[39;49medgecolors, plotnonfinite\u001b[39m=\u001b[39;49mplotnonfinite,\n\u001b[1;32m   2811\u001b[0m         \u001b[39m*\u001b[39;49m\u001b[39m*\u001b[39;49m({\u001b[39m\"\u001b[39;49m\u001b[39mdata\u001b[39;49m\u001b[39m\"\u001b[39;49m: data} \u001b[39mif\u001b[39;49;00m data \u001b[39mis\u001b[39;49;00m \u001b[39mnot\u001b[39;49;00m \u001b[39mNone\u001b[39;49;00m \u001b[39melse\u001b[39;49;00m {}), \u001b[39m*\u001b[39;49m\u001b[39m*\u001b[39;49mkwargs)\n\u001b[1;32m   2812\u001b[0m     sci(__ret)\n\u001b[1;32m   2813\u001b[0m     \u001b[39mreturn\u001b[39;00m __ret\n",
      "File \u001b[0;32m~/anaconda3/envs/thesis/lib/python3.8/site-packages/matplotlib/__init__.py:1412\u001b[0m, in \u001b[0;36m_preprocess_data.<locals>.inner\u001b[0;34m(ax, data, *args, **kwargs)\u001b[0m\n\u001b[1;32m   1409\u001b[0m \u001b[39m@functools\u001b[39m\u001b[39m.\u001b[39mwraps(func)\n\u001b[1;32m   1410\u001b[0m \u001b[39mdef\u001b[39;00m \u001b[39minner\u001b[39m(ax, \u001b[39m*\u001b[39margs, data\u001b[39m=\u001b[39m\u001b[39mNone\u001b[39;00m, \u001b[39m*\u001b[39m\u001b[39m*\u001b[39mkwargs):\n\u001b[1;32m   1411\u001b[0m     \u001b[39mif\u001b[39;00m data \u001b[39mis\u001b[39;00m \u001b[39mNone\u001b[39;00m:\n\u001b[0;32m-> 1412\u001b[0m         \u001b[39mreturn\u001b[39;00m func(ax, \u001b[39m*\u001b[39;49m\u001b[39mmap\u001b[39;49m(sanitize_sequence, args), \u001b[39m*\u001b[39;49m\u001b[39m*\u001b[39;49mkwargs)\n\u001b[1;32m   1414\u001b[0m     bound \u001b[39m=\u001b[39m new_sig\u001b[39m.\u001b[39mbind(ax, \u001b[39m*\u001b[39margs, \u001b[39m*\u001b[39m\u001b[39m*\u001b[39mkwargs)\n\u001b[1;32m   1415\u001b[0m     auto_label \u001b[39m=\u001b[39m (bound\u001b[39m.\u001b[39marguments\u001b[39m.\u001b[39mget(label_namer)\n\u001b[1;32m   1416\u001b[0m                   \u001b[39mor\u001b[39;00m bound\u001b[39m.\u001b[39mkwargs\u001b[39m.\u001b[39mget(label_namer))\n",
      "File \u001b[0;32m~/anaconda3/envs/thesis/lib/python3.8/site-packages/matplotlib/axes/_axes.py:4387\u001b[0m, in \u001b[0;36mAxes.scatter\u001b[0;34m(self, x, y, s, c, marker, cmap, norm, vmin, vmax, alpha, linewidths, edgecolors, plotnonfinite, **kwargs)\u001b[0m\n\u001b[1;32m   4384\u001b[0m \u001b[39mif\u001b[39;00m edgecolors \u001b[39mis\u001b[39;00m \u001b[39mNone\u001b[39;00m:\n\u001b[1;32m   4385\u001b[0m     orig_edgecolor \u001b[39m=\u001b[39m kwargs\u001b[39m.\u001b[39mget(\u001b[39m'\u001b[39m\u001b[39medgecolor\u001b[39m\u001b[39m'\u001b[39m, \u001b[39mNone\u001b[39;00m)\n\u001b[1;32m   4386\u001b[0m c, colors, edgecolors \u001b[39m=\u001b[39m \\\n\u001b[0;32m-> 4387\u001b[0m     \u001b[39mself\u001b[39;49m\u001b[39m.\u001b[39;49m_parse_scatter_color_args(\n\u001b[1;32m   4388\u001b[0m         c, edgecolors, kwargs, x\u001b[39m.\u001b[39;49msize,\n\u001b[1;32m   4389\u001b[0m         get_next_color_func\u001b[39m=\u001b[39;49m\u001b[39mself\u001b[39;49m\u001b[39m.\u001b[39;49m_get_patches_for_fill\u001b[39m.\u001b[39;49mget_next_color)\n\u001b[1;32m   4391\u001b[0m \u001b[39mif\u001b[39;00m plotnonfinite \u001b[39mand\u001b[39;00m colors \u001b[39mis\u001b[39;00m \u001b[39mNone\u001b[39;00m:\n\u001b[1;32m   4392\u001b[0m     c \u001b[39m=\u001b[39m np\u001b[39m.\u001b[39mma\u001b[39m.\u001b[39mmasked_invalid(c)\n",
      "File \u001b[0;32m~/anaconda3/envs/thesis/lib/python3.8/site-packages/matplotlib/axes/_axes.py:4237\u001b[0m, in \u001b[0;36mAxes._parse_scatter_color_args\u001b[0;34m(c, edgecolors, kwargs, xsize, get_next_color_func)\u001b[0m\n\u001b[1;32m   4233\u001b[0m     \u001b[39melse\u001b[39;00m:\n\u001b[1;32m   4234\u001b[0m         \u001b[39mif\u001b[39;00m \u001b[39mlen\u001b[39m(colors) \u001b[39mnot\u001b[39;00m \u001b[39min\u001b[39;00m (\u001b[39m0\u001b[39m, \u001b[39m1\u001b[39m, xsize):\n\u001b[1;32m   4235\u001b[0m             \u001b[39m# NB: remember that a single color is also acceptable.\u001b[39;00m\n\u001b[1;32m   4236\u001b[0m             \u001b[39m# Besides *colors* will be an empty array if c == 'none'.\u001b[39;00m\n\u001b[0;32m-> 4237\u001b[0m             \u001b[39mraise\u001b[39;00m invalid_shape_exception(\u001b[39mlen\u001b[39m(colors), xsize)\n\u001b[1;32m   4238\u001b[0m \u001b[39melse\u001b[39;00m:\n\u001b[1;32m   4239\u001b[0m     colors \u001b[39m=\u001b[39m \u001b[39mNone\u001b[39;00m  \u001b[39m# use cmap, norm after collection is created\u001b[39;00m\n",
      "\u001b[0;31mValueError\u001b[0m: 'c' argument has 600 elements, which is inconsistent with 'x' and 'y' with size 19580."
     ]
    },
    {
     "data": {
      "image/png": "[encoded data removed]",
      "text/plain": [
       "<Figure size 432x288 with 1 Axes>"
      ]
     },
     "metadata": {
      "needs_background": "light"
     },
     "output_type": "display_data"
    }
   ],
   "source": [
    "color_list = [\"red\", \"orange\", \"green\", \"blue\", \"purple\", \"brown\", \"black\"]\n",
    "\n",
    "loader = DataLoader(dataset, batch_size=64, shuffle=True)\n",
    "embs = []\n",
    "colors = []\n",
    "for batch in loader:\n",
    "    emb, pred = model(batch)\n",
    "    embs.append(emb)\n",
    "    colors += [color_list[y] for y in batch.y]\n",
    "embs = torch.cat(embs, dim=0)\n",
    "\n",
    "xs, ys = zip(*TSNE().fit_transform(embs.detach().numpy()))\n",
    "plt.scatter(xs, ys, color=colors)"
   ]
  }
 ],
 "metadata": {
  "interpreter": {
   "hash": "256f456f48a7573be2e92d7d4ad106f3e4ebb2f7dda185884e7558e9f4526d1c"
  },
  "kernelspec": {
   "display_name": "Python 3.8.2 ('thesis')",
   "language": "python",
   "name": "python3"
  },
  "language_info": {
   "codemirror_mode": {
    "name": "ipython",
    "version": 3
   },
   "file_extension": ".py",
   "mimetype": "text/x-python",
   "name": "python",
   "nbconvert_exporter": "python",
   "pygments_lexer": "ipython3",
   "version": "3.8.2"
  },
  "orig_nbformat": 4
 },
 "nbformat": 4,
 "nbformat_minor": 2
}
